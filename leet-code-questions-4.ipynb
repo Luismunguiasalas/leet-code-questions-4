{
 "metadata": {
  "language_info": {
   "codemirror_mode": {
    "name": "ipython",
    "version": 3
   },
   "file_extension": ".py",
   "mimetype": "text/x-python",
   "name": "python",
   "nbconvert_exporter": "python",
   "pygments_lexer": "ipython3",
   "version": "3.8.5-final"
  },
  "orig_nbformat": 2,
  "kernelspec": {
   "name": "python3",
   "display_name": "Python 3",
   "language": "python"
  }
 },
 "nbformat": 4,
 "nbformat_minor": 2,
 "cells": [
  {
   "cell_type": "code",
   "execution_count": 11,
   "metadata": {},
   "outputs": [
    {
     "output_type": "execute_result",
     "data": {
      "text/plain": [
       "[1, 3, 3]"
      ]
     },
     "metadata": {},
     "execution_count": 11
    }
   ],
   "source": [
    "# 1313. Decompress Run-Length Encoded List\n",
    "\n",
    "# We are given a list nums of integers representing a list compressed with run-length encoding.\n",
    "\n",
    "# Consider each adjacent pair of elements [freq, val] = [nums[2*i], nums[2*i+1]] (with i >= 0).  For each such pair, there are freq elements with value val concatenated in a sublist. Concatenate all the sublists from left to right to generate the decompressed list.\n",
    "\n",
    "# Return the decompressed list.\n",
    "\n",
    "# Example 1:\n",
    "# Input: nums = [1,2,3,4]\n",
    "# Output: [2,4,4,4]\n",
    "# Explanation: The first pair [1,2] means we have freq = 1 and val = 2 so we generate the array [2].\n",
    "# The second pair [3,4] means we have freq = 3 and val = 4 so we generate [4,4,4].\n",
    "# At the end the concatenation [2] + [4,4,4] is [2,4,4,4].\n",
    "\n",
    "# Example 2:\n",
    "# Input: nums = [1,1,2,3]\n",
    "# Output: [1,3,3]\n",
    " \n",
    "\n",
    "# Constraints:\n",
    "# 2 <= nums.length <= 100\n",
    "# nums.length % 2 == 0\n",
    "# 1 <= nums[i] <= 100\n",
    "\n",
    "\n",
    "def decompressRLElist(arr):\n",
    "    if 2 <= len(nums) <= 100:\n",
    "        l = 0\n",
    "        arrLen = len(arr)\n",
    "        a = []\n",
    "        while l + 1 < arrLen:\n",
    "            t = []\n",
    "            for i in range(arr[l]):\n",
    "                t.append(arr[l+1])\n",
    "            a.extend(t)\n",
    "            l += 2\n",
    "        return a\n",
    "\n",
    "inp = [1,1,2,3]\n",
    "decompressRLElist(inp)"
   ]
  },
  {
   "cell_type": "code",
   "execution_count": 15,
   "metadata": {},
   "outputs": [
    {
     "output_type": "stream",
     "name": "stdout",
     "text": [
      "[0, 1, 2, 3, 4]\n"
     ]
    }
   ],
   "source": [
    "# 1389. Create Target Array in the Given Order\n",
    "\n",
    "# Given two arrays of integers nums and index. Your task is to create target array under the following rules:\n",
    "\n",
    "# Initially target array is empty.\n",
    "# From left to right read nums[i] and index[i], insert at index index[i] the value nums[i] in target array.\n",
    "# Repeat the previous step until there are no elements to read in nums and index.\n",
    "# Return the target array.\n",
    "\n",
    "# It is guaranteed that the insertion operations will be valid.\n",
    "\n",
    "# Example 1:\n",
    "# Input: nums = [0,1,2,3,4], index = [0,1,2,2,1]\n",
    "# Output: [0,4,1,3,2]\n",
    "# Explanation:\n",
    "# nums       index     target\n",
    "# 0            0        [0]\n",
    "# 1            1        [0,1]\n",
    "# 2            2        [0,1,2]\n",
    "# 3            2        [0,1,3,2]\n",
    "# 4            1        [0,4,1,3,2]\n",
    "\n",
    "# Example 2:\n",
    "# Input: nums = [1,2,3,4,0], index = [0,1,2,3,0]\n",
    "# Output: [0,1,2,3,4]\n",
    "# Explanation:\n",
    "# nums       index     target\n",
    "# 1            0        [1]\n",
    "# 2            1        [1,2]\n",
    "# 3            2        [1,2,3]\n",
    "# 4            3        [1,2,3,4]\n",
    "# 0            0        [0,1,2,3,4]\n",
    "\n",
    "# Example 3:\n",
    "# Input: nums = [1], index = [0]\n",
    "# Output: [1]\n",
    "\n",
    "def createTargetArr(n,i):\n",
    "    t = []\n",
    "    for ind in range(len(i)):\n",
    "        t.insert(i[ind], n[ind])\n",
    "    print(t)\n",
    "\n",
    "# nums = [0,1,2,3,4]\n",
    "# index = [0,1,2,2,1]\n",
    "nums = [1,2,3,4,0]\n",
    "index = [0,1,2,3,0]\n",
    "# nums= [1]\n",
    "# index=[0]\n",
    "\n",
    "createTargetArr(nums,index)"
   ]
  },
  {
   "cell_type": "code",
   "execution_count": 16,
   "metadata": {},
   "outputs": [
    {
     "output_type": "execute_result",
     "data": {
      "text/plain": [
       "True"
      ]
     },
     "metadata": {},
     "execution_count": 16
    }
   ],
   "source": [
    "# 1662. Check If Two String Arrays are Equivalent\n",
    "\n",
    "# Given two string arrays word1 and word2, return true if the two arrays represent the same string, and false otherwise.\n",
    "\n",
    "# A string is represented by an array if the array elements concatenated in order forms the string.\n",
    "\n",
    "# Example 1:\n",
    "# Input: word1 = [\"ab\", \"c\"], word2 = [\"a\", \"bc\"]\n",
    "# Output: true\n",
    "# Explanation:\n",
    "# word1 represents string \"ab\" + \"c\" -> \"abc\"\n",
    "# word2 represents string \"a\" + \"bc\" -> \"abc\"\n",
    "# The strings are the same, so return true.\n",
    "\n",
    "# Example 2:\n",
    "# Input: word1 = [\"a\", \"cb\"], word2 = [\"ab\", \"c\"]\n",
    "# Output: false\n",
    "\n",
    "# Example 3:\n",
    "# Input: word1  = [\"abc\", \"d\", \"defg\"], word2 = [\"abcddefg\"]\n",
    "# Output: true\n",
    "\n",
    "# Constraints:\n",
    "# 1 <= word1.length, word2.length <= 103\n",
    "# 1 <= word1[i].length, word2[i].length <= 103\n",
    "# 1 <= sum(word1[i].length), sum(word2[i].length) <= 103\n",
    "# word1[i] and word2[i] consist of lowercase letters.\n",
    "\n",
    "def stringsEquivalent(w1,w2):\n",
    "    w1 = \"\".join(w1)\n",
    "    w2 = \"\".join(w2)\n",
    "    return w1 == w2\n",
    "\n",
    "word1 = [\"ab\", \"c\"] \n",
    "word2 = [\"a\", \"bc\"]\n",
    "\n",
    "stringsEquivalent(word1,word2)\n"
   ]
  },
  {
   "cell_type": "code",
   "execution_count": null,
   "metadata": {},
   "outputs": [],
   "source": [
    "# 541. Reverse String II\n",
    "\n",
    "Given a string and an integer k, you need to reverse the first k characters for every 2k characters counting from the start of the string. If there are less than k characters left, reverse all of them. If there are less than 2k but greater than or equal to k characters, then reverse the first k characters and left the other as original.\n",
    "\n",
    "Example:\n",
    "Input: s = \"abcdefg\", k = 2\n",
    "Output: \"bacdfeg\"\n",
    "Restrictions:\n",
    "The string consists of lower English letters only.\n",
    "Length of the given string and k will in the range [1, 10000]\n",
    "\n",
    "def reverseStr(string,k):\n",
    "    for i in range(len(s)):\n",
    "        if i == k - 1:\n",
    "            s[i-1],s[i] = s[i],s[i-1]\n",
    "            k *= 2\n",
    "\n",
    "\n",
    "s = \"abcdefg\"\n",
    "k = 2\n",
    "reverseStr(s,k)\n"
   ]
  }
 ]
}